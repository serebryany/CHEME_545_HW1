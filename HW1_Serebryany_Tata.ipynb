{
 "cells": [
  {
   "cell_type": "markdown",
   "id": "31248c73-4237-4825-90dc-6868e86f5da4",
   "metadata": {},
   "source": [
    "## HW 1 ( 30 points)"
   ]
  },
  {
   "cell_type": "markdown",
   "id": "78957f83-fa97-4d36-ae0b-2f5331f91fc7",
   "metadata": {},
   "source": [
    "#### Submit your homework as a. ipynb file. Use the format 'HW1_LastName_FirstName.ipynb'. If there are no comments/markdown describing what you have done, your work will not be graded. Follow the code of conduct. "
   ]
  },
  {
   "cell_type": "code",
   "execution_count": 1,
   "id": "3f03874d-2462-4d93-bcc4-aab753c69b70",
   "metadata": {},
   "outputs": [
    {
     "ename": "ModuleNotFoundError",
     "evalue": "No module named 'numpy'",
     "output_type": "error",
     "traceback": [
      "\u001b[1;31m---------------------------------------------------------------------------\u001b[0m",
      "\u001b[1;31mModuleNotFoundError\u001b[0m                       Traceback (most recent call last)",
      "Cell \u001b[1;32mIn [1], line 2\u001b[0m\n\u001b[0;32m      1\u001b[0m \u001b[38;5;66;03m#all imports used for this assignment\u001b[39;00m\n\u001b[1;32m----> 2\u001b[0m \u001b[38;5;28;01mimport\u001b[39;00m \u001b[38;5;21;01mnumpy\u001b[39;00m \u001b[38;5;28;01mas\u001b[39;00m \u001b[38;5;21;01mnp\u001b[39;00m\n",
      "\u001b[1;31mModuleNotFoundError\u001b[0m: No module named 'numpy'"
     ]
    }
   ],
   "source": [
    "#all imports used for this assignment\n",
    "import numpy as np"
   ]
  },
  {
   "cell_type": "markdown",
   "id": "5e3c0416-838e-4b72-8851-92d9e788e810",
   "metadata": {},
   "source": [
    "### Problem 1: Data Extraction and Modification (10)"
   ]
  },
  {
   "cell_type": "markdown",
   "id": "8afb4315-0c70-4aa5-aaca-db1b615a927e",
   "metadata": {},
   "source": [
    "Write a Python function `extract_parameter` that takes the `unit_operations_data` dictionary, and outputs the name of the inputted unit operation, its desired feature name and value.  It will take a `unit_name` (string), a `parameter_name` (string), and an `index` (integer) as inputs and return a string in the format: \"`{unit_name}_{parameter_name}_{value}`\". If the `unit_name` or `parameter_name` is not found, or the `index` is out of range, the function should return \"Invalid input\".\n"
   ]
  },
  {
   "cell_type": "code",
   "execution_count": 6,
   "id": "bc79a14c-736d-43d0-99e9-15305807ae70",
   "metadata": {},
   "outputs": [],
   "source": [
    "unit_operations_data = {\n",
    "    \"distillation_column\": {\"temperature\": [150, 160, 170], \"pressure\": [2, 2.5, 3], \"flow_rate\": [100, 110, 120]},\n",
    "    \"reactor\": {\"temperature\": [250, 260, 270], \"pressure\": [5, 5.5, 6], \"residence_time\": [10, 12, 14]},\n",
    "    \"heat_exchanger\": {\"temperature_in\": [80, 90, 100], \"temperature_out\": [50, 60, 70], \"flow_rate\": [200, 210, 220]}\n",
    "}"
   ]
  },
  {
   "cell_type": "code",
   "execution_count": 9,
   "id": "e1af9093-565f-484c-be22-f7626789c0aa",
   "metadata": {},
   "outputs": [
    {
     "data": {
      "text/plain": [
       "[150, 160, 170]"
      ]
     },
     "execution_count": 9,
     "metadata": {},
     "output_type": "execute_result"
    }
   ],
   "source": [
    "unit_operations_data[\"distillation_column\"]['temperature']"
   ]
  },
  {
   "cell_type": "markdown",
   "id": "c61f98f1-8c13-402d-8b5c-99978b12c660",
   "metadata": {},
   "source": [
    "Example: `extract_parameter(\"distillation_column\", \"temperature\", 1)` should return \"distillation_column_temperature_160\". Hint: Look up try and except method for error handling in Python. "
   ]
  },
  {
   "cell_type": "markdown",
   "id": "d2029941-770b-4203-bca7-edc448f5f44d",
   "metadata": {},
   "source": [
    "### Problem 1 Solution\n",
    "\n",
    "2 solutions for problem 1 are presented: the first one uses  `if else` statements as described in class. The second one uses a  `try except` block, which is simpler and doesn't require each condition `(unit_name, parameter_name, index)`to be checked individually."
   ]
  },
  {
   "cell_type": "code",
   "execution_count": 26,
   "id": "22b4f483-b3e7-4616-8ce2-13e3281edb90",
   "metadata": {},
   "outputs": [
    {
     "data": {
      "text/plain": [
       "'distillation_column_temperature_160'"
      ]
     },
     "execution_count": 26,
     "metadata": {},
     "output_type": "execute_result"
    }
   ],
   "source": [
    "#Solution 1: using if else statements\n",
    "\n",
    "#define function and the inputs\n",
    "def extract_parameter(unit_name, parameter_name, index):\n",
    "    #check if the unit_name matches what is in the dictionary\n",
    "    if unit_name in unit_operations_data: \n",
    "        #check if parameter_name matches what is in the dictionary\n",
    "        if parameter_name in unit_operations_data[unit_name]: \n",
    "            #check if the index given matches the range in the matching sub dictionary\n",
    "            if 0 <= index < len(unit_operations_data[unit_name][parameter_name]): \n",
    "                #return a string with the necessary information\n",
    "                return f\"{unit_name}_{parameter_name}_{unit_operations_data[unit_name][parameter_name][index]}\"\n",
    "            #return the error messages\n",
    "            else: return \"Invalid Input: Index Out of Range\" #prints error message\n",
    "        else: return \"Invalid Input: Parameter Name Not Found\"  #prints error message\n",
    "    else: return \"Invalid Input: Unit Name Not Found\"  #prints error message\n",
    "\n",
    "#testing the function\n",
    "extract_parameter(\"reactor\", \"temperature\", 2) #'reactor_temperature_270'\n",
    "extract_parameter(\"reactor\", \"temperature\", 200) #'Invalid Input: Index Out of Range'\n",
    "extract_parameter(\"distillation_column\", \"temperature\", 1) #'distillation_column_temperature_160'"
   ]
  },
  {
   "cell_type": "code",
   "execution_count": 25,
   "id": "da92a4cc-0631-40f2-aeb2-02efd0426537",
   "metadata": {},
   "outputs": [
    {
     "data": {
      "text/plain": [
       "'distillation_column_temperature_160'"
      ]
     },
     "execution_count": 25,
     "metadata": {},
     "output_type": "execute_result"
    }
   ],
   "source": [
    "#Solution 2: Using try-except block\n",
    "#This is much easier\n",
    "\n",
    "#define function and the inputs\n",
    "def extract_parameter(unit_name, parameter_name, index): \n",
    "    #tries to access the data in the dictionary and return a string with the information from it\n",
    "    try: return f\"{unit_name}_{parameter_name}_{unit_operations_data[unit_name][parameter_name][index]}\"\n",
    "    #if it can't find that data in the dictionary an error message is printed\n",
    "    except (KeyError, IndexError): return \"Invalid Input\"\n",
    "        \n",
    "#testing the function\n",
    "extract_parameter(\"distillation_column\", \"temperature\", 1)"
   ]
  },
  {
   "cell_type": "markdown",
   "id": "1efd46aa-7454-41f8-927c-f3cecd7d5d2e",
   "metadata": {
    "tags": []
   },
   "source": [
    "### Problem 2: Chemical Solution Calculator (10 points)"
   ]
  },
  {
   "cell_type": "markdown",
   "id": "2b307912-0fe6-45c9-b3b9-5a16057e9aac",
   "metadata": {},
   "source": [
    "You are working in a lab preparing chemical solutions. You have a dictionary of chemicals\n",
    "with their molecular weights and a list of required solutions. "
   ]
  },
  {
   "cell_type": "code",
   "execution_count": 37,
   "id": "9eafa086-265c-4f38-976d-e71d5ec3e8b2",
   "metadata": {},
   "outputs": [],
   "source": [
    "molecular_weights = {\n",
    "    'NaCl': 58.44,\n",
    "    'H2SO4': 98.079,\n",
    "    'NaOH': 40.00,\n",
    "    'KMnO4': 158.034,\n",
    "    'CH3COOH': 60.052\n",
    "}"
   ]
  },
  {
   "cell_type": "code",
   "execution_count": 38,
   "id": "72313142-ae9d-4947-a893-5a9606536ba8",
   "metadata": {},
   "outputs": [],
   "source": [
    "solutions_needed = ['NaCl-0.5M', 'H2SO4-0.25M', 'NaOH-1M', 'KCl-0.1M', 'CH3COOH-0.3M']"
   ]
  },
  {
   "cell_type": "markdown",
   "id": "53bb711c-f5ff-4fde-8b35-34893b65ffb8",
   "metadata": {},
   "source": [
    "Create a function ```calculate_solution_weights(molecular_weights, solutions_needed)``` that takes these inputs and returns a modified list where:\n",
    "   - If the chemical exists in molecular_weights, replace the entry with:\n",
    "     'chemical_formula-concentration-weight'\n",
    "     where weight represents the weight of the compound in 1 litre solution in grams.\n",
    "\n",
    "     `weight = molecular_weight * concentration`\n",
    "   - If the chemical doesn't exist in molecular_weights, replace with 'unknown'\n",
    "   \n",
    "Example output:\n",
    "`['NaCl-0.5M-29.22g', 'H2SO4-0.25M-24.52g', 'NaOH-1M-40.00g', 'unknown', 'CH3COOH-0.3M-18.02g']`\n"
   ]
  },
  {
   "cell_type": "markdown",
   "id": "41919c95-b4ea-4e86-b999-56978e92bd95",
   "metadata": {},
   "source": [
    "### Problem 2 Solution\n",
    "Once again, two options are presented. First uses `if else` statements, second uses `try except`. The first solution works but could be improved with more error tests."
   ]
  },
  {
   "cell_type": "code",
   "execution_count": 32,
   "id": "a897bb81-1029-48f1-8d75-3621be2866ce",
   "metadata": {},
   "outputs": [
    {
     "data": {
      "text/plain": [
       "['NaCl-0.5M-29.22g',\n",
       " 'H2SO4-0.25M-24.51975g',\n",
       " 'NaOH-1.0M-40.0g',\n",
       " 'unknown',\n",
       " 'CH3COOH-0.3M-18.0156g']"
      ]
     },
     "execution_count": 32,
     "metadata": {},
     "output_type": "execute_result"
    }
   ],
   "source": [
    "#Solution 1\n",
    "\n",
    "#define the function and its inputs\n",
    "def calculate_solution_weights(molecular_weights, solutions_needed):\n",
    "    #start with an empty result to keep adding to\n",
    "    result = []\n",
    "    #loop through all the input chemicals\n",
    "    for solution in solutions_needed: \n",
    "        #check that each input is in the right format ex. NaCl-0.5M\n",
    "        # '.endswith' returns true if the string ends with the given string, in this case 'M'\n",
    "        if '-' in solution and solution.endswith('M'): \n",
    "            #separate the chemical name (first half) from the concentration (second half)\n",
    "            split = solution.split('-')\n",
    "            if len(split) ==2:\n",
    "                name = split[0]\n",
    "                #remove the last character 'M' and convert the concentration to a float\n",
    "                concentration = float(split[1][:-1]) \n",
    "                if name in molecular_weights:\n",
    "                    #get the molecular weight from the list\n",
    "                    molecular_weight = molecular_weights[name]\n",
    "                    #calculate the weight\n",
    "                    weight = molecular_weight * concentration\n",
    "                    #add the calculated weight to the result\n",
    "                    result.append(f\"{name}-{concentration}M-{weight}g\")\n",
    "                else: result.append(\"unknown\")\n",
    "            else: result.append(\"unknown\")\n",
    "        else: result.append(\"unknown\")\n",
    "    return result\n",
    "\n",
    "calculate_solution_weights(molecular_weights, solutions_needed)"
   ]
  },
  {
   "cell_type": "code",
   "execution_count": 39,
   "id": "2bc55b38-4d93-4c5f-9f24-317e843ef56d",
   "metadata": {},
   "outputs": [
    {
     "data": {
      "text/plain": [
       "['NaCl-0.5M-29.22g',\n",
       " 'H2SO4-0.25M-24.51975g',\n",
       " 'NaOH-1.0M-40.0g',\n",
       " 'unknown',\n",
       " 'CH3COOH-0.3M-18.0156g']"
      ]
     },
     "execution_count": 39,
     "metadata": {},
     "output_type": "execute_result"
    }
   ],
   "source": [
    "#Solution 2\n",
    "\n",
    "#define the function and its inputs\n",
    "def calculate_solution_weights(molecular_weights, solutions_needed):\n",
    "    #start with an empty result to keep adding to\n",
    "    result = []\n",
    "    #loop through all the input chemicals\n",
    "    for solution in solutions_needed: \n",
    "        try:\n",
    "            name, concentration = solution.split('-')\n",
    "            concentration = float(concentration[:-1])\n",
    "            if name in molecular_weights:\n",
    "                #get the molecular weight from the list\n",
    "                molecular_weight = molecular_weights[name]\n",
    "                #calculate the weight\n",
    "                weight = molecular_weight * concentration\n",
    "                #add the calculated weight to the result\n",
    "                result.append(f\"{name}-{concentration}M-{weight}g\")\n",
    "            else: result.append(\"unknown\")\n",
    "        except ValueError: result.append(\"unknown\")\n",
    "    return result\n",
    "\n",
    "calculate_solution_weights(molecular_weights, solutions_needed)"
   ]
  },
  {
   "cell_type": "markdown",
   "id": "29ebc886-5b12-4e9a-ab78-55e9ff0319bc",
   "metadata": {},
   "source": [
    "### Problem 3: Git Version Control (10 Points)"
   ]
  },
  {
   "cell_type": "markdown",
   "id": "8ea117aa-d244-4972-97a0-db182a94b243",
   "metadata": {},
   "source": [
    "\n",
    "Create a public Git repository for this assignment on GitHub.\n",
    "\n",
    "1. Clone this repository to your local computer (connect your github repo to your local repo if needed).\n",
    "2. Make a Python file containing extract_parameter function. Add this file to the git repo and commit.\n",
    "3. Make a Python file containing calculate_solution_weights function. Add this file to the git repo and commit. Write meaningful messages while committing.\n",
    "4. Add a file with name 'README.md' that briefly explains your approach and how to run your Python files.\n",
    "5. dd 'README.md' file to the repo and commit.\n",
    "6. Push the repo to github.\n",
    "7. Submit the link to your public github repo."
   ]
  },
  {
   "cell_type": "code",
   "execution_count": null,
   "id": "6e8cc553-f9cb-4245-9b2f-f8377761ea87",
   "metadata": {},
   "outputs": [],
   "source": []
  }
 ],
 "metadata": {
  "kernelspec": {
   "display_name": "\"Python/Mu (mu_venv-38-20230705-125919)\"",
   "language": "python",
   "name": "mu_venv-38-20230705-125919"
  },
  "language_info": {
   "codemirror_mode": {
    "name": "ipython",
    "version": 3
   },
   "file_extension": ".py",
   "mimetype": "text/x-python",
   "name": "python",
   "nbconvert_exporter": "python",
   "pygments_lexer": "ipython3",
   "version": "3.8.12"
  }
 },
 "nbformat": 4,
 "nbformat_minor": 5
}
